{
 "cells": [
  {
   "cell_type": "code",
   "execution_count": 2,
   "metadata": {},
   "outputs": [
    {
     "name": "stdout",
     "output_type": "stream",
     "text": [
      "original q: [10 20]  / coord: [10 20]  / 2elements: 10 [20]\n",
      "modified q: [30 40]  / coord: [30 40]  / elements: 10 [40]\n"
     ]
    }
   ],
   "source": [
    "import numpy as np\n",
    "\n",
    "class MyClass:\n",
    "\n",
    "    def __init__(self,q):\n",
    "        self.coord = q\n",
    "        self.firstel = q[0]\n",
    "        self.secondel = q[1:2]\n",
    "\n",
    "q = np.array([10,20])   # numpy array\n",
    "my_object = MyClass(q)  # object of MyClass\n",
    "\n",
    "print('original','q:',q,' / coord:',my_object.coord,' / 2elements:',my_object.firstel,my_object.secondel)\n",
    "\n",
    "q[0],q[1] = 30,40 # modification of the  elements of q\n",
    "\n",
    "print('modified','q:',q,' / coord:',my_object.coord,' / elements:', my_object.firstel, my_object.secondel)"
   ]
  },
  {
   "cell_type": "code",
   "execution_count": null,
   "metadata": {},
   "outputs": [],
   "source": []
  }
 ],
 "metadata": {
  "kernelspec": {
   "display_name": "Python 3",
   "language": "python",
   "name": "python3"
  },
  "language_info": {
   "codemirror_mode": {
    "name": "ipython",
    "version": 3
   },
   "file_extension": ".py",
   "mimetype": "text/x-python",
   "name": "python",
   "nbconvert_exporter": "python",
   "pygments_lexer": "ipython3",
   "version": "3.7.4"
  }
 },
 "nbformat": 4,
 "nbformat_minor": 2
}
